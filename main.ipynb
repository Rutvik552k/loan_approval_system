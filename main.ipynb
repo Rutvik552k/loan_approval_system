{
 "cells": [
  {
   "cell_type": "code",
   "execution_count": 19,
   "id": "67515e1f",
   "metadata": {},
   "outputs": [],
   "source": [
    "import pandas as pd\n",
    "import numpy as np \n",
    "import matplotlib.pyplot as plt\n",
    "from sklearn.linear_model import LogisticRegressionCV\n",
    "from sklearn.tree import DecisionTreeClassifier\n",
    "from sklearn.ensemble import RandomForestClassifier,ExtraTreesClassifier,StackingClassifier,AdaBoostClassifier\n",
    "from sklearn.neighbors import KNeighborsClassifier\n",
    "from sklearn.svm import SVC\n",
    "from sklearn.preprocessing import StandardScaler,OneHotEncoder,LabelBinarizer\n",
    "from sklearn.metrics import accuracy_score,confusion_matrix,classification_report\n",
    "from sklearn.model_selection import KFold\n",
    "from sklearn.feature_selection import mutual_info_classif,chi2\n",
    "from scipy.stats import ttest_rel"
   ]
  },
  {
   "cell_type": "code",
   "execution_count": 2,
   "id": "be427b89",
   "metadata": {},
   "outputs": [],
   "source": [
    "main_df=pd.read_csv(\"train_df.csv\")"
   ]
  },
  {
   "cell_type": "markdown",
   "id": "824b9481",
   "metadata": {},
   "source": [
    "## Head of the data"
   ]
  },
  {
   "cell_type": "code",
   "execution_count": 3,
   "id": "45e5cfe9",
   "metadata": {},
   "outputs": [
    {
     "data": {
      "text/html": [
       "<div>\n",
       "<style scoped>\n",
       "    .dataframe tbody tr th:only-of-type {\n",
       "        vertical-align: middle;\n",
       "    }\n",
       "\n",
       "    .dataframe tbody tr th {\n",
       "        vertical-align: top;\n",
       "    }\n",
       "\n",
       "    .dataframe thead th {\n",
       "        text-align: right;\n",
       "    }\n",
       "</style>\n",
       "<table border=\"1\" class=\"dataframe\">\n",
       "  <thead>\n",
       "    <tr style=\"text-align: right;\">\n",
       "      <th></th>\n",
       "      <th>Loan_ID</th>\n",
       "      <th>Gender</th>\n",
       "      <th>Married</th>\n",
       "      <th>Dependents</th>\n",
       "      <th>Education</th>\n",
       "      <th>Self_Employed</th>\n",
       "      <th>ApplicantIncome</th>\n",
       "      <th>CoapplicantIncome</th>\n",
       "      <th>LoanAmount</th>\n",
       "      <th>Loan_Amount_Term</th>\n",
       "      <th>Credit_History</th>\n",
       "      <th>Property_Area</th>\n",
       "      <th>Loan_Status</th>\n",
       "    </tr>\n",
       "  </thead>\n",
       "  <tbody>\n",
       "    <tr>\n",
       "      <th>0</th>\n",
       "      <td>LP001002</td>\n",
       "      <td>Male</td>\n",
       "      <td>No</td>\n",
       "      <td>0</td>\n",
       "      <td>Graduate</td>\n",
       "      <td>No</td>\n",
       "      <td>5849</td>\n",
       "      <td>0.0</td>\n",
       "      <td>NaN</td>\n",
       "      <td>360.0</td>\n",
       "      <td>1.0</td>\n",
       "      <td>Urban</td>\n",
       "      <td>Y</td>\n",
       "    </tr>\n",
       "    <tr>\n",
       "      <th>1</th>\n",
       "      <td>LP001003</td>\n",
       "      <td>Male</td>\n",
       "      <td>Yes</td>\n",
       "      <td>1</td>\n",
       "      <td>Graduate</td>\n",
       "      <td>No</td>\n",
       "      <td>4583</td>\n",
       "      <td>1508.0</td>\n",
       "      <td>128.0</td>\n",
       "      <td>360.0</td>\n",
       "      <td>1.0</td>\n",
       "      <td>Rural</td>\n",
       "      <td>N</td>\n",
       "    </tr>\n",
       "    <tr>\n",
       "      <th>2</th>\n",
       "      <td>LP001005</td>\n",
       "      <td>Male</td>\n",
       "      <td>Yes</td>\n",
       "      <td>0</td>\n",
       "      <td>Graduate</td>\n",
       "      <td>Yes</td>\n",
       "      <td>3000</td>\n",
       "      <td>0.0</td>\n",
       "      <td>66.0</td>\n",
       "      <td>360.0</td>\n",
       "      <td>1.0</td>\n",
       "      <td>Urban</td>\n",
       "      <td>Y</td>\n",
       "    </tr>\n",
       "    <tr>\n",
       "      <th>3</th>\n",
       "      <td>LP001006</td>\n",
       "      <td>Male</td>\n",
       "      <td>Yes</td>\n",
       "      <td>0</td>\n",
       "      <td>Not Graduate</td>\n",
       "      <td>No</td>\n",
       "      <td>2583</td>\n",
       "      <td>2358.0</td>\n",
       "      <td>120.0</td>\n",
       "      <td>360.0</td>\n",
       "      <td>1.0</td>\n",
       "      <td>Urban</td>\n",
       "      <td>Y</td>\n",
       "    </tr>\n",
       "    <tr>\n",
       "      <th>4</th>\n",
       "      <td>LP001008</td>\n",
       "      <td>Male</td>\n",
       "      <td>No</td>\n",
       "      <td>0</td>\n",
       "      <td>Graduate</td>\n",
       "      <td>No</td>\n",
       "      <td>6000</td>\n",
       "      <td>0.0</td>\n",
       "      <td>141.0</td>\n",
       "      <td>360.0</td>\n",
       "      <td>1.0</td>\n",
       "      <td>Urban</td>\n",
       "      <td>Y</td>\n",
       "    </tr>\n",
       "  </tbody>\n",
       "</table>\n",
       "</div>"
      ],
      "text/plain": [
       "    Loan_ID Gender Married Dependents     Education Self_Employed  \\\n",
       "0  LP001002   Male      No          0      Graduate            No   \n",
       "1  LP001003   Male     Yes          1      Graduate            No   \n",
       "2  LP001005   Male     Yes          0      Graduate           Yes   \n",
       "3  LP001006   Male     Yes          0  Not Graduate            No   \n",
       "4  LP001008   Male      No          0      Graduate            No   \n",
       "\n",
       "   ApplicantIncome  CoapplicantIncome  LoanAmount  Loan_Amount_Term  \\\n",
       "0             5849                0.0         NaN             360.0   \n",
       "1             4583             1508.0       128.0             360.0   \n",
       "2             3000                0.0        66.0             360.0   \n",
       "3             2583             2358.0       120.0             360.0   \n",
       "4             6000                0.0       141.0             360.0   \n",
       "\n",
       "   Credit_History Property_Area Loan_Status  \n",
       "0             1.0         Urban           Y  \n",
       "1             1.0         Rural           N  \n",
       "2             1.0         Urban           Y  \n",
       "3             1.0         Urban           Y  \n",
       "4             1.0         Urban           Y  "
      ]
     },
     "execution_count": 3,
     "metadata": {},
     "output_type": "execute_result"
    }
   ],
   "source": [
    "main_df.head()"
   ]
  },
  {
   "cell_type": "code",
   "execution_count": 4,
   "id": "c0aa1ded",
   "metadata": {},
   "outputs": [
    {
     "data": {
      "text/plain": [
       "13"
      ]
     },
     "execution_count": 4,
     "metadata": {},
     "output_type": "execute_result"
    }
   ],
   "source": [
    "main_df.columns.nunique()"
   ]
  },
  {
   "cell_type": "code",
   "execution_count": 5,
   "id": "bc8d07f6",
   "metadata": {},
   "outputs": [
    {
     "data": {
      "text/plain": [
       "(614, 13)"
      ]
     },
     "execution_count": 5,
     "metadata": {},
     "output_type": "execute_result"
    }
   ],
   "source": [
    "#614 rows with 13 columns\n",
    "main_df.shape"
   ]
  },
  {
   "cell_type": "code",
   "execution_count": 6,
   "id": "d4914f1f",
   "metadata": {},
   "outputs": [],
   "source": [
    "#Loan_status is target column \n",
    "#problem is classification \n",
    "#convert target column in to number \n",
    "target_dict={\"Y\":1,\n",
    "            \"N\":0}\n",
    "\n",
    "main_df[\"Loan_Status\"]=main_df[\"Loan_Status\"].map(target_dict)"
   ]
  },
  {
   "cell_type": "code",
   "execution_count": 7,
   "id": "f539c3b1",
   "metadata": {},
   "outputs": [
    {
     "data": {
      "text/plain": [
       "1    422\n",
       "0    192\n",
       "Name: Loan_Status, dtype: int64"
      ]
     },
     "execution_count": 7,
     "metadata": {},
     "output_type": "execute_result"
    }
   ],
   "source": [
    "main_df[\"Loan_Status\"].value_counts(dropna=False)"
   ]
  },
  {
   "cell_type": "code",
   "execution_count": 8,
   "id": "0ed2dbe4",
   "metadata": {},
   "outputs": [],
   "source": [
    "#422 loan has been approved but 192 has been rejected \n",
    "# dataset is imbalanced and check the ratio\n",
    "pass_loan=main_df.Loan_Status.value_counts()[1]\n",
    "rejected_loan=main_df.Loan_Status.value_counts()[0]"
   ]
  },
  {
   "cell_type": "code",
   "execution_count": 9,
   "id": "e2d322ea",
   "metadata": {},
   "outputs": [
    {
     "name": "stdout",
     "output_type": "stream",
     "text": [
      "31.27035830618892\n"
     ]
    }
   ],
   "source": [
    "ratio=(rejected_loan/len(main_df))*100\n",
    "print(ratio)\n",
    "#out of 100 ,31 people's loan is rejected"
   ]
  },
  {
   "cell_type": "code",
   "execution_count": 10,
   "id": "ccca81ce",
   "metadata": {},
   "outputs": [
    {
     "data": {
      "text/plain": [
       "68.72964169381108"
      ]
     },
     "execution_count": 10,
     "metadata": {},
     "output_type": "execute_result"
    }
   ],
   "source": [
    "pass_loan/len(main_df)*100\n",
    "#out of 100 ,68 people's loan is rejected"
   ]
  },
  {
   "cell_type": "code",
   "execution_count": 14,
   "id": "f6905041",
   "metadata": {},
   "outputs": [],
   "source": [
    "categorical_col=main_df.select_dtypes(include=\"object\").columns.tolist()\n",
    "numerical_col=main_df.select_dtypes(exclude=\"object\").columns.tolist()"
   ]
  },
  {
   "cell_type": "code",
   "execution_count": 18,
   "id": "0b9edccd",
   "metadata": {},
   "outputs": [
    {
     "name": "stdout",
     "output_type": "stream",
     "text": [
      "['Loan_ID', 'Gender', 'Married', 'Dependents', 'Education', 'Self_Employed', 'Property_Area']\n"
     ]
    },
    {
     "data": {
      "text/plain": [
       "['ApplicantIncome',\n",
       " 'CoapplicantIncome',\n",
       " 'LoanAmount',\n",
       " 'Loan_Amount_Term',\n",
       " 'Credit_History',\n",
       " 'Loan_Status']"
      ]
     },
     "execution_count": 18,
     "metadata": {},
     "output_type": "execute_result"
    }
   ],
   "source": [
    "print(categorical_col)\n",
    "numerical_col"
   ]
  },
  {
   "cell_type": "code",
   "execution_count": 17,
   "id": "5455f5f0",
   "metadata": {},
   "outputs": [
    {
     "name": "stdout",
     "output_type": "stream",
     "text": [
      "<class 'pandas.core.frame.DataFrame'>\n",
      "RangeIndex: 614 entries, 0 to 613\n",
      "Data columns (total 13 columns):\n",
      " #   Column             Non-Null Count  Dtype  \n",
      "---  ------             --------------  -----  \n",
      " 0   Loan_ID            614 non-null    object \n",
      " 1   Gender             601 non-null    object \n",
      " 2   Married            611 non-null    object \n",
      " 3   Dependents         599 non-null    object \n",
      " 4   Education          614 non-null    object \n",
      " 5   Self_Employed      582 non-null    object \n",
      " 6   ApplicantIncome    614 non-null    int64  \n",
      " 7   CoapplicantIncome  614 non-null    float64\n",
      " 8   LoanAmount         592 non-null    float64\n",
      " 9   Loan_Amount_Term   600 non-null    float64\n",
      " 10  Credit_History     564 non-null    float64\n",
      " 11  Property_Area      614 non-null    object \n",
      " 12  Loan_Status        614 non-null    int64  \n",
      "dtypes: float64(4), int64(2), object(7)\n",
      "memory usage: 62.5+ KB\n"
     ]
    }
   ],
   "source": [
    "main_df.info()"
   ]
  },
  {
   "cell_type": "markdown",
   "id": "fa5f60d5",
   "metadata": {},
   "source": [
    "# EDA"
   ]
  },
  {
   "cell_type": "code",
   "execution_count": 56,
   "id": "c5288c91",
   "metadata": {},
   "outputs": [],
   "source": [
    "def values_counts(colname):\n",
    "    temp_name=[]\n",
    "    temp_value=[]\n",
    "    temp_dict={}\n",
    "    temp_value,temp_name=main_df[colname].value_counts(dropna=False).values.tolist(),main_df[colname].value_counts(dropna=False).index.tolist()\n",
    "    for i,j in zip(temp_name,temp_value):\n",
    "        temp_dict[i]=j\n",
    "    return temp_dict"
   ]
  },
  {
   "cell_type": "code",
   "execution_count": 57,
   "id": "7f425101",
   "metadata": {},
   "outputs": [],
   "source": [
    "Gender_dict=values_counts(\"Gender\")"
   ]
  },
  {
   "cell_type": "code",
   "execution_count": 58,
   "id": "dca0d1e7",
   "metadata": {},
   "outputs": [
    {
     "data": {
      "text/plain": [
       "{'Male': 489, 'Female': 112, nan: 13}"
      ]
     },
     "execution_count": 58,
     "metadata": {},
     "output_type": "execute_result"
    }
   ],
   "source": [
    "Gender_dict"
   ]
  },
  {
   "cell_type": "code",
   "execution_count": 64,
   "id": "7d1f4ec3",
   "metadata": {},
   "outputs": [
    {
     "data": {
      "text/plain": [
       "['Male', 'Female', nan]"
      ]
     },
     "execution_count": 64,
     "metadata": {},
     "output_type": "execute_result"
    }
   ],
   "source": [
    "list(Gender_dict.keys())"
   ]
  },
  {
   "cell_type": "code",
   "execution_count": 72,
   "id": "72234139",
   "metadata": {},
   "outputs": [
    {
     "data": {
      "text/plain": [
       "['Male', 'Female', nan]"
      ]
     },
     "execution_count": 72,
     "metadata": {},
     "output_type": "execute_result"
    }
   ],
   "source": [
    "main_df[\"Gender\"].unique().tolist()"
   ]
  },
  {
   "cell_type": "code",
   "execution_count": 68,
   "id": "f695b762",
   "metadata": {
    "scrolled": true
   },
   "outputs": [
    {
     "data": {
      "text/html": [
       "<div>\n",
       "<style scoped>\n",
       "    .dataframe tbody tr th:only-of-type {\n",
       "        vertical-align: middle;\n",
       "    }\n",
       "\n",
       "    .dataframe tbody tr th {\n",
       "        vertical-align: top;\n",
       "    }\n",
       "\n",
       "    .dataframe thead th {\n",
       "        text-align: right;\n",
       "    }\n",
       "</style>\n",
       "<table border=\"1\" class=\"dataframe\">\n",
       "  <thead>\n",
       "    <tr style=\"text-align: right;\">\n",
       "      <th></th>\n",
       "      <th>ApplicantIncome</th>\n",
       "      <th>CoapplicantIncome</th>\n",
       "      <th>LoanAmount</th>\n",
       "      <th>Loan_Amount_Term</th>\n",
       "      <th>Credit_History</th>\n",
       "      <th>Loan_Status</th>\n",
       "    </tr>\n",
       "  </thead>\n",
       "  <tbody>\n",
       "    <tr>\n",
       "      <th>ApplicantIncome</th>\n",
       "      <td>1.000000</td>\n",
       "      <td>-0.116605</td>\n",
       "      <td>0.570909</td>\n",
       "      <td>-0.045306</td>\n",
       "      <td>-0.014715</td>\n",
       "      <td>-0.004710</td>\n",
       "    </tr>\n",
       "    <tr>\n",
       "      <th>CoapplicantIncome</th>\n",
       "      <td>-0.116605</td>\n",
       "      <td>1.000000</td>\n",
       "      <td>0.188619</td>\n",
       "      <td>-0.059878</td>\n",
       "      <td>-0.002056</td>\n",
       "      <td>-0.059187</td>\n",
       "    </tr>\n",
       "    <tr>\n",
       "      <th>LoanAmount</th>\n",
       "      <td>0.570909</td>\n",
       "      <td>0.188619</td>\n",
       "      <td>1.000000</td>\n",
       "      <td>0.039447</td>\n",
       "      <td>-0.008433</td>\n",
       "      <td>-0.037318</td>\n",
       "    </tr>\n",
       "    <tr>\n",
       "      <th>Loan_Amount_Term</th>\n",
       "      <td>-0.045306</td>\n",
       "      <td>-0.059878</td>\n",
       "      <td>0.039447</td>\n",
       "      <td>1.000000</td>\n",
       "      <td>0.001470</td>\n",
       "      <td>-0.021268</td>\n",
       "    </tr>\n",
       "    <tr>\n",
       "      <th>Credit_History</th>\n",
       "      <td>-0.014715</td>\n",
       "      <td>-0.002056</td>\n",
       "      <td>-0.008433</td>\n",
       "      <td>0.001470</td>\n",
       "      <td>1.000000</td>\n",
       "      <td>0.561678</td>\n",
       "    </tr>\n",
       "    <tr>\n",
       "      <th>Loan_Status</th>\n",
       "      <td>-0.004710</td>\n",
       "      <td>-0.059187</td>\n",
       "      <td>-0.037318</td>\n",
       "      <td>-0.021268</td>\n",
       "      <td>0.561678</td>\n",
       "      <td>1.000000</td>\n",
       "    </tr>\n",
       "  </tbody>\n",
       "</table>\n",
       "</div>"
      ],
      "text/plain": [
       "                   ApplicantIncome  CoapplicantIncome  LoanAmount  \\\n",
       "ApplicantIncome           1.000000          -0.116605    0.570909   \n",
       "CoapplicantIncome        -0.116605           1.000000    0.188619   \n",
       "LoanAmount                0.570909           0.188619    1.000000   \n",
       "Loan_Amount_Term         -0.045306          -0.059878    0.039447   \n",
       "Credit_History           -0.014715          -0.002056   -0.008433   \n",
       "Loan_Status              -0.004710          -0.059187   -0.037318   \n",
       "\n",
       "                   Loan_Amount_Term  Credit_History  Loan_Status  \n",
       "ApplicantIncome           -0.045306       -0.014715    -0.004710  \n",
       "CoapplicantIncome         -0.059878       -0.002056    -0.059187  \n",
       "LoanAmount                 0.039447       -0.008433    -0.037318  \n",
       "Loan_Amount_Term           1.000000        0.001470    -0.021268  \n",
       "Credit_History             0.001470        1.000000     0.561678  \n",
       "Loan_Status               -0.021268        0.561678     1.000000  "
      ]
     },
     "execution_count": 68,
     "metadata": {},
     "output_type": "execute_result"
    }
   ],
   "source": [
    "main_df.corr()"
   ]
  },
  {
   "cell_type": "code",
   "execution_count": 106,
   "id": "eba0b09b",
   "metadata": {},
   "outputs": [],
   "source": [
    "#credit history has high relation with target variable \n",
    "def convert_values_into_encoder(main_df,colname,target_name):\n",
    "    temp_list=main_df[colname].unique().tolist()\n",
    "    temp_dict={}\n",
    "    for i,j in enumerate(temp_list):\n",
    "        temp_dict[j]=i\n",
    "    print(temp_dict)\n",
    "    main_df[colname]=main_df[colname].map(temp_dict)\n",
    "    chai2=chi2(main_df[[colname]],main_df[target_name])\n",
    "    relation=mutual_info_classif(main_df[[colname]],main_df[target_name])\n",
    "    \n",
    "    if chai2[1][0]<0.05:\n",
    "        print(\"chi2 approved\")\n",
    "        if relation>0.5:\n",
    "            print(\"relation approved\")\n",
    "    return chai2,relation"
   ]
  },
  {
   "cell_type": "code",
   "execution_count": 97,
   "id": "3dfbd17d",
   "metadata": {},
   "outputs": [],
   "source": [
    "Gender_dict=convert_values_into_encoder(main_df,\"Gender\",\"Loan_Status\")"
   ]
  },
  {
   "cell_type": "code",
   "execution_count": 98,
   "id": "8d4308f3",
   "metadata": {},
   "outputs": [
    {
     "data": {
      "text/plain": [
       "((array([0.49896148]), array([0.47995679])), array([0.00460523]))"
      ]
     },
     "execution_count": 98,
     "metadata": {},
     "output_type": "execute_result"
    }
   ],
   "source": [
    "Gender_dict"
   ]
  },
  {
   "cell_type": "code",
   "execution_count": 100,
   "id": "95cfb5db",
   "metadata": {},
   "outputs": [
    {
     "data": {
      "text/plain": [
       "0.47995679396322755"
      ]
     },
     "execution_count": 100,
     "metadata": {},
     "output_type": "execute_result"
    }
   ],
   "source": [
    "chi2(main_df[[\"Gender\"]],main_df.Loan_Status)[1][0]"
   ]
  },
  {
   "cell_type": "code",
   "execution_count": 101,
   "id": "db6e2fbe",
   "metadata": {},
   "outputs": [
    {
     "data": {
      "text/plain": [
       "array([0.00794327])"
      ]
     },
     "execution_count": 101,
     "metadata": {},
     "output_type": "execute_result"
    }
   ],
   "source": [
    "mutual_info_classif(main_df[[\"Gender\"]],main_df.Loan_Status)"
   ]
  },
  {
   "cell_type": "code",
   "execution_count": 107,
   "id": "855e29b9",
   "metadata": {},
   "outputs": [
    {
     "name": "stdout",
     "output_type": "stream",
     "text": [
      "{'No': 0, 'Yes': 1, nan: 2}\n"
     ]
    }
   ],
   "source": [
    "Married_dict=convert_values_into_encoder(main_df,\"Married\",\"Loan_Status\")"
   ]
  },
  {
   "cell_type": "code",
   "execution_count": 109,
   "id": "6c944e71",
   "metadata": {},
   "outputs": [
    {
     "data": {
      "text/plain": [
       "((array([2.0471442]), array([0.15249199])), array([0]))"
      ]
     },
     "execution_count": 109,
     "metadata": {},
     "output_type": "execute_result"
    }
   ],
   "source": [
    "Married_dict"
   ]
  },
  {
   "cell_type": "code",
   "execution_count": 108,
   "id": "9b21fd13",
   "metadata": {},
   "outputs": [
    {
     "data": {
      "text/html": [
       "<div>\n",
       "<style scoped>\n",
       "    .dataframe tbody tr th:only-of-type {\n",
       "        vertical-align: middle;\n",
       "    }\n",
       "\n",
       "    .dataframe tbody tr th {\n",
       "        vertical-align: top;\n",
       "    }\n",
       "\n",
       "    .dataframe thead th {\n",
       "        text-align: right;\n",
       "    }\n",
       "</style>\n",
       "<table border=\"1\" class=\"dataframe\">\n",
       "  <thead>\n",
       "    <tr style=\"text-align: right;\">\n",
       "      <th></th>\n",
       "      <th>Loan_ID</th>\n",
       "      <th>Gender</th>\n",
       "      <th>Married</th>\n",
       "      <th>Dependents</th>\n",
       "      <th>Education</th>\n",
       "      <th>Self_Employed</th>\n",
       "      <th>ApplicantIncome</th>\n",
       "      <th>CoapplicantIncome</th>\n",
       "      <th>LoanAmount</th>\n",
       "      <th>Loan_Amount_Term</th>\n",
       "      <th>Credit_History</th>\n",
       "      <th>Property_Area</th>\n",
       "      <th>Loan_Status</th>\n",
       "    </tr>\n",
       "  </thead>\n",
       "  <tbody>\n",
       "    <tr>\n",
       "      <th>0</th>\n",
       "      <td>LP001002</td>\n",
       "      <td>0</td>\n",
       "      <td>0</td>\n",
       "      <td>0</td>\n",
       "      <td>Graduate</td>\n",
       "      <td>No</td>\n",
       "      <td>5849</td>\n",
       "      <td>0.0</td>\n",
       "      <td>NaN</td>\n",
       "      <td>360.0</td>\n",
       "      <td>1.0</td>\n",
       "      <td>Urban</td>\n",
       "      <td>1</td>\n",
       "    </tr>\n",
       "    <tr>\n",
       "      <th>1</th>\n",
       "      <td>LP001003</td>\n",
       "      <td>0</td>\n",
       "      <td>1</td>\n",
       "      <td>1</td>\n",
       "      <td>Graduate</td>\n",
       "      <td>No</td>\n",
       "      <td>4583</td>\n",
       "      <td>1508.0</td>\n",
       "      <td>128.0</td>\n",
       "      <td>360.0</td>\n",
       "      <td>1.0</td>\n",
       "      <td>Rural</td>\n",
       "      <td>0</td>\n",
       "    </tr>\n",
       "    <tr>\n",
       "      <th>2</th>\n",
       "      <td>LP001005</td>\n",
       "      <td>0</td>\n",
       "      <td>1</td>\n",
       "      <td>0</td>\n",
       "      <td>Graduate</td>\n",
       "      <td>Yes</td>\n",
       "      <td>3000</td>\n",
       "      <td>0.0</td>\n",
       "      <td>66.0</td>\n",
       "      <td>360.0</td>\n",
       "      <td>1.0</td>\n",
       "      <td>Urban</td>\n",
       "      <td>1</td>\n",
       "    </tr>\n",
       "    <tr>\n",
       "      <th>3</th>\n",
       "      <td>LP001006</td>\n",
       "      <td>0</td>\n",
       "      <td>1</td>\n",
       "      <td>0</td>\n",
       "      <td>Not Graduate</td>\n",
       "      <td>No</td>\n",
       "      <td>2583</td>\n",
       "      <td>2358.0</td>\n",
       "      <td>120.0</td>\n",
       "      <td>360.0</td>\n",
       "      <td>1.0</td>\n",
       "      <td>Urban</td>\n",
       "      <td>1</td>\n",
       "    </tr>\n",
       "    <tr>\n",
       "      <th>4</th>\n",
       "      <td>LP001008</td>\n",
       "      <td>0</td>\n",
       "      <td>0</td>\n",
       "      <td>0</td>\n",
       "      <td>Graduate</td>\n",
       "      <td>No</td>\n",
       "      <td>6000</td>\n",
       "      <td>0.0</td>\n",
       "      <td>141.0</td>\n",
       "      <td>360.0</td>\n",
       "      <td>1.0</td>\n",
       "      <td>Urban</td>\n",
       "      <td>1</td>\n",
       "    </tr>\n",
       "  </tbody>\n",
       "</table>\n",
       "</div>"
      ],
      "text/plain": [
       "    Loan_ID  Gender  Married Dependents     Education Self_Employed  \\\n",
       "0  LP001002       0        0          0      Graduate            No   \n",
       "1  LP001003       0        1          1      Graduate            No   \n",
       "2  LP001005       0        1          0      Graduate           Yes   \n",
       "3  LP001006       0        1          0  Not Graduate            No   \n",
       "4  LP001008       0        0          0      Graduate            No   \n",
       "\n",
       "   ApplicantIncome  CoapplicantIncome  LoanAmount  Loan_Amount_Term  \\\n",
       "0             5849                0.0         NaN             360.0   \n",
       "1             4583             1508.0       128.0             360.0   \n",
       "2             3000                0.0        66.0             360.0   \n",
       "3             2583             2358.0       120.0             360.0   \n",
       "4             6000                0.0       141.0             360.0   \n",
       "\n",
       "   Credit_History Property_Area  Loan_Status  \n",
       "0             1.0         Urban            1  \n",
       "1             1.0         Rural            0  \n",
       "2             1.0         Urban            1  \n",
       "3             1.0         Urban            1  \n",
       "4             1.0         Urban            1  "
      ]
     },
     "execution_count": 108,
     "metadata": {},
     "output_type": "execute_result"
    }
   ],
   "source": [
    "main_df.head()"
   ]
  },
  {
   "cell_type": "code",
   "execution_count": 110,
   "id": "fab83e70",
   "metadata": {},
   "outputs": [
    {
     "name": "stdout",
     "output_type": "stream",
     "text": [
      "{'0': 0, '1': 1, '2': 2, '3+': 3, nan: 4}\n"
     ]
    },
    {
     "data": {
      "text/plain": [
       "((array([0.04895328]), array([0.82489475])), array([0]))"
      ]
     },
     "execution_count": 110,
     "metadata": {},
     "output_type": "execute_result"
    }
   ],
   "source": [
    "convert_values_into_encoder(main_df,\"Dependents\",\"Loan_Status\")"
   ]
  },
  {
   "cell_type": "code",
   "execution_count": 111,
   "id": "d3af3316",
   "metadata": {},
   "outputs": [
    {
     "name": "stdout",
     "output_type": "stream",
     "text": [
      "{'Graduate': 0, 'Not Graduate': 1}\n"
     ]
    },
    {
     "data": {
      "text/plain": [
       "((array([3.54050246]), array([0.05988732])), array([0.01499047]))"
      ]
     },
     "execution_count": 111,
     "metadata": {},
     "output_type": "execute_result"
    }
   ],
   "source": [
    "convert_values_into_encoder(main_df,\"Education\",\"Loan_Status\")"
   ]
  },
  {
   "cell_type": "code",
   "execution_count": 112,
   "id": "fd820ef3",
   "metadata": {},
   "outputs": [
    {
     "name": "stdout",
     "output_type": "stream",
     "text": [
      "{'No': 0, 'Yes': 1, nan: 2}\n"
     ]
    },
    {
     "data": {
      "text/plain": [
       "((array([0.08726114]), array([0.76768836])), array([0.01779331]))"
      ]
     },
     "execution_count": 112,
     "metadata": {},
     "output_type": "execute_result"
    }
   ],
   "source": [
    "convert_values_into_encoder(main_df,\"Self_Employed\",\"Loan_Status\")"
   ]
  },
  {
   "cell_type": "code",
   "execution_count": 113,
   "id": "d01fc8cf",
   "metadata": {},
   "outputs": [
    {
     "name": "stdout",
     "output_type": "stream",
     "text": [
      "{'Urban': 0, 'Rural': 1, 'Semiurban': 2}\n",
      "chi2 approved\n"
     ]
    },
    {
     "data": {
      "text/plain": [
       "((array([4.39885443]), array([0.03596308])), array([0.00320842]))"
      ]
     },
     "execution_count": 113,
     "metadata": {},
     "output_type": "execute_result"
    }
   ],
   "source": [
    "convert_values_into_encoder(main_df,\"Property_Area\",\"Loan_Status\")"
   ]
  },
  {
   "cell_type": "code",
   "execution_count": 114,
   "id": "d1f15e68",
   "metadata": {},
   "outputs": [
    {
     "data": {
      "text/html": [
       "<div>\n",
       "<style scoped>\n",
       "    .dataframe tbody tr th:only-of-type {\n",
       "        vertical-align: middle;\n",
       "    }\n",
       "\n",
       "    .dataframe tbody tr th {\n",
       "        vertical-align: top;\n",
       "    }\n",
       "\n",
       "    .dataframe thead th {\n",
       "        text-align: right;\n",
       "    }\n",
       "</style>\n",
       "<table border=\"1\" class=\"dataframe\">\n",
       "  <thead>\n",
       "    <tr style=\"text-align: right;\">\n",
       "      <th></th>\n",
       "      <th>ApplicantIncome</th>\n",
       "      <th>CoapplicantIncome</th>\n",
       "      <th>LoanAmount</th>\n",
       "      <th>Loan_Amount_Term</th>\n",
       "      <th>Credit_History</th>\n",
       "      <th>Loan_Status</th>\n",
       "    </tr>\n",
       "  </thead>\n",
       "  <tbody>\n",
       "    <tr>\n",
       "      <th>0</th>\n",
       "      <td>5849</td>\n",
       "      <td>0.0</td>\n",
       "      <td>NaN</td>\n",
       "      <td>360.0</td>\n",
       "      <td>1.0</td>\n",
       "      <td>1</td>\n",
       "    </tr>\n",
       "    <tr>\n",
       "      <th>1</th>\n",
       "      <td>4583</td>\n",
       "      <td>1508.0</td>\n",
       "      <td>128.0</td>\n",
       "      <td>360.0</td>\n",
       "      <td>1.0</td>\n",
       "      <td>0</td>\n",
       "    </tr>\n",
       "    <tr>\n",
       "      <th>2</th>\n",
       "      <td>3000</td>\n",
       "      <td>0.0</td>\n",
       "      <td>66.0</td>\n",
       "      <td>360.0</td>\n",
       "      <td>1.0</td>\n",
       "      <td>1</td>\n",
       "    </tr>\n",
       "    <tr>\n",
       "      <th>3</th>\n",
       "      <td>2583</td>\n",
       "      <td>2358.0</td>\n",
       "      <td>120.0</td>\n",
       "      <td>360.0</td>\n",
       "      <td>1.0</td>\n",
       "      <td>1</td>\n",
       "    </tr>\n",
       "    <tr>\n",
       "      <th>4</th>\n",
       "      <td>6000</td>\n",
       "      <td>0.0</td>\n",
       "      <td>141.0</td>\n",
       "      <td>360.0</td>\n",
       "      <td>1.0</td>\n",
       "      <td>1</td>\n",
       "    </tr>\n",
       "    <tr>\n",
       "      <th>...</th>\n",
       "      <td>...</td>\n",
       "      <td>...</td>\n",
       "      <td>...</td>\n",
       "      <td>...</td>\n",
       "      <td>...</td>\n",
       "      <td>...</td>\n",
       "    </tr>\n",
       "    <tr>\n",
       "      <th>609</th>\n",
       "      <td>2900</td>\n",
       "      <td>0.0</td>\n",
       "      <td>71.0</td>\n",
       "      <td>360.0</td>\n",
       "      <td>1.0</td>\n",
       "      <td>1</td>\n",
       "    </tr>\n",
       "    <tr>\n",
       "      <th>610</th>\n",
       "      <td>4106</td>\n",
       "      <td>0.0</td>\n",
       "      <td>40.0</td>\n",
       "      <td>180.0</td>\n",
       "      <td>1.0</td>\n",
       "      <td>1</td>\n",
       "    </tr>\n",
       "    <tr>\n",
       "      <th>611</th>\n",
       "      <td>8072</td>\n",
       "      <td>240.0</td>\n",
       "      <td>253.0</td>\n",
       "      <td>360.0</td>\n",
       "      <td>1.0</td>\n",
       "      <td>1</td>\n",
       "    </tr>\n",
       "    <tr>\n",
       "      <th>612</th>\n",
       "      <td>7583</td>\n",
       "      <td>0.0</td>\n",
       "      <td>187.0</td>\n",
       "      <td>360.0</td>\n",
       "      <td>1.0</td>\n",
       "      <td>1</td>\n",
       "    </tr>\n",
       "    <tr>\n",
       "      <th>613</th>\n",
       "      <td>4583</td>\n",
       "      <td>0.0</td>\n",
       "      <td>133.0</td>\n",
       "      <td>360.0</td>\n",
       "      <td>0.0</td>\n",
       "      <td>0</td>\n",
       "    </tr>\n",
       "  </tbody>\n",
       "</table>\n",
       "<p>614 rows × 6 columns</p>\n",
       "</div>"
      ],
      "text/plain": [
       "     ApplicantIncome  CoapplicantIncome  LoanAmount  Loan_Amount_Term  \\\n",
       "0               5849                0.0         NaN             360.0   \n",
       "1               4583             1508.0       128.0             360.0   \n",
       "2               3000                0.0        66.0             360.0   \n",
       "3               2583             2358.0       120.0             360.0   \n",
       "4               6000                0.0       141.0             360.0   \n",
       "..               ...                ...         ...               ...   \n",
       "609             2900                0.0        71.0             360.0   \n",
       "610             4106                0.0        40.0             180.0   \n",
       "611             8072              240.0       253.0             360.0   \n",
       "612             7583                0.0       187.0             360.0   \n",
       "613             4583                0.0       133.0             360.0   \n",
       "\n",
       "     Credit_History  Loan_Status  \n",
       "0               1.0            1  \n",
       "1               1.0            0  \n",
       "2               1.0            1  \n",
       "3               1.0            1  \n",
       "4               1.0            1  \n",
       "..              ...          ...  \n",
       "609             1.0            1  \n",
       "610             1.0            1  \n",
       "611             1.0            1  \n",
       "612             1.0            1  \n",
       "613             0.0            0  \n",
       "\n",
       "[614 rows x 6 columns]"
      ]
     },
     "execution_count": 114,
     "metadata": {},
     "output_type": "execute_result"
    }
   ],
   "source": [
    "main_df[numerical_col]"
   ]
  },
  {
   "cell_type": "code",
   "execution_count": 116,
   "id": "4e81dc62",
   "metadata": {},
   "outputs": [
    {
     "data": {
      "text/plain": [
       "0"
      ]
     },
     "execution_count": 116,
     "metadata": {},
     "output_type": "execute_result"
    }
   ],
   "source": [
    "main_df.ApplicantIncome.isnull().sum()"
   ]
  },
  {
   "cell_type": "code",
   "execution_count": 135,
   "id": "51c998dc",
   "metadata": {},
   "outputs": [
    {
     "data": {
      "text/plain": [
       "22"
      ]
     },
     "execution_count": 135,
     "metadata": {},
     "output_type": "execute_result"
    }
   ],
   "source": [
    "main_df.LoanAmount.isnull().sum()"
   ]
  },
  {
   "cell_type": "code",
   "execution_count": 136,
   "id": "d62918a6",
   "metadata": {},
   "outputs": [
    {
     "data": {
      "text/plain": [
       "14"
      ]
     },
     "execution_count": 136,
     "metadata": {},
     "output_type": "execute_result"
    }
   ],
   "source": [
    "main_df.Loan_Amount_Term.isnull().sum()"
   ]
  },
  {
   "cell_type": "code",
   "execution_count": 137,
   "id": "b5ab9f14",
   "metadata": {},
   "outputs": [
    {
     "data": {
      "text/plain": [
       "50"
      ]
     },
     "execution_count": 137,
     "metadata": {},
     "output_type": "execute_result"
    }
   ],
   "source": [
    "main_df.Credit_History.isnull().sum()"
   ]
  },
  {
   "cell_type": "code",
   "execution_count": 138,
   "id": "7bcbb647",
   "metadata": {},
   "outputs": [
    {
     "data": {
      "text/plain": [
       "Loan_ID               0\n",
       "Gender                0\n",
       "Married               0\n",
       "Dependents            0\n",
       "Education             0\n",
       "Self_Employed         0\n",
       "ApplicantIncome       0\n",
       "CoapplicantIncome     0\n",
       "LoanAmount           22\n",
       "Loan_Amount_Term     14\n",
       "Credit_History       50\n",
       "Property_Area         0\n",
       "Loan_Status           0\n",
       "dtype: int64"
      ]
     },
     "execution_count": 138,
     "metadata": {},
     "output_type": "execute_result"
    }
   ],
   "source": [
    "main_df.isnull().sum()"
   ]
  },
  {
   "cell_type": "code",
   "execution_count": 139,
   "id": "36b231fd",
   "metadata": {},
   "outputs": [],
   "source": [
    "main_df.dropna(inplace=True)"
   ]
  },
  {
   "cell_type": "code",
   "execution_count": 140,
   "id": "affd5e11",
   "metadata": {},
   "outputs": [],
   "source": [
    "def identify_numeric_relation(main_df,numerical_col,target_col):\n",
    "    p={}\n",
    "    for col in numerical_col:\n",
    "        _,p_value=ttest_rel(main_df[col],main_df[target_col])\n",
    "        p[col]=p_value\n",
    "        \n",
    "        if p_value<0.05:\n",
    "            print(f\"{col} approved\" )\n",
    "    return p"
   ]
  },
  {
   "cell_type": "code",
   "execution_count": 141,
   "id": "2bc745c6",
   "metadata": {},
   "outputs": [
    {
     "name": "stdout",
     "output_type": "stream",
     "text": [
      "ApplicantIncome approved\n",
      "CoapplicantIncome approved\n",
      "LoanAmount approved\n",
      "Loan_Amount_Term approved\n",
      "Credit_History approved\n"
     ]
    },
    {
     "data": {
      "text/plain": [
       "{'ApplicantIncome': 1.450273066442599e-65,\n",
       " 'CoapplicantIncome': 2.6094948885596837e-38,\n",
       " 'LoanAmount': 1.40429954781519e-160,\n",
       " 'Loan_Amount_Term': 0.0,\n",
       " 'Credit_History': 1.5631621192074994e-18,\n",
       " 'Loan_Status': nan}"
      ]
     },
     "execution_count": 141,
     "metadata": {},
     "output_type": "execute_result"
    }
   ],
   "source": [
    "identify_numeric_relation(main_df,numerical_col,\"Loan_Status\")"
   ]
  },
  {
   "cell_type": "code",
   "execution_count": 142,
   "id": "76377b4a",
   "metadata": {},
   "outputs": [
    {
     "data": {
      "text/plain": [
       "array([0.02793705, 0.        , 0.        , 0.00253175, 0.14608319,\n",
       "       0.61854136])"
      ]
     },
     "execution_count": 142,
     "metadata": {},
     "output_type": "execute_result"
    }
   ],
   "source": [
    "#applicat income,\n",
    "mutual_info_classif(main_df[numerical_col],main_df.Loan_Status)"
   ]
  },
  {
   "cell_type": "code",
   "execution_count": 143,
   "id": "98816d36",
   "metadata": {},
   "outputs": [
    {
     "data": {
      "text/html": [
       "<div>\n",
       "<style scoped>\n",
       "    .dataframe tbody tr th:only-of-type {\n",
       "        vertical-align: middle;\n",
       "    }\n",
       "\n",
       "    .dataframe tbody tr th {\n",
       "        vertical-align: top;\n",
       "    }\n",
       "\n",
       "    .dataframe thead th {\n",
       "        text-align: right;\n",
       "    }\n",
       "</style>\n",
       "<table border=\"1\" class=\"dataframe\">\n",
       "  <thead>\n",
       "    <tr style=\"text-align: right;\">\n",
       "      <th></th>\n",
       "      <th>Gender</th>\n",
       "      <th>Married</th>\n",
       "      <th>Dependents</th>\n",
       "      <th>Education</th>\n",
       "      <th>Self_Employed</th>\n",
       "      <th>ApplicantIncome</th>\n",
       "      <th>CoapplicantIncome</th>\n",
       "      <th>LoanAmount</th>\n",
       "      <th>Loan_Amount_Term</th>\n",
       "      <th>Credit_History</th>\n",
       "      <th>Property_Area</th>\n",
       "      <th>Loan_Status</th>\n",
       "    </tr>\n",
       "  </thead>\n",
       "  <tbody>\n",
       "    <tr>\n",
       "      <th>Gender</th>\n",
       "      <td>1.000000</td>\n",
       "      <td>-0.267226</td>\n",
       "      <td>-0.121249</td>\n",
       "      <td>-0.072985</td>\n",
       "      <td>0.038857</td>\n",
       "      <td>0.042558</td>\n",
       "      <td>-0.134343</td>\n",
       "      <td>-0.008853</td>\n",
       "      <td>0.067224</td>\n",
       "      <td>-0.036533</td>\n",
       "      <td>0.087250</td>\n",
       "      <td>-0.064047</td>\n",
       "    </tr>\n",
       "    <tr>\n",
       "      <th>Married</th>\n",
       "      <td>-0.267226</td>\n",
       "      <td>1.000000</td>\n",
       "      <td>0.354413</td>\n",
       "      <td>0.009407</td>\n",
       "      <td>-0.036041</td>\n",
       "      <td>0.051737</td>\n",
       "      <td>0.110537</td>\n",
       "      <td>0.172137</td>\n",
       "      <td>-0.089838</td>\n",
       "      <td>0.013366</td>\n",
       "      <td>-0.007119</td>\n",
       "      <td>0.098600</td>\n",
       "    </tr>\n",
       "    <tr>\n",
       "      <th>Dependents</th>\n",
       "      <td>-0.121249</td>\n",
       "      <td>0.354413</td>\n",
       "      <td>1.000000</td>\n",
       "      <td>0.040694</td>\n",
       "      <td>-0.004980</td>\n",
       "      <td>0.106932</td>\n",
       "      <td>-0.019422</td>\n",
       "      <td>0.158508</td>\n",
       "      <td>-0.054452</td>\n",
       "      <td>-0.082853</td>\n",
       "      <td>-0.047590</td>\n",
       "      <td>0.008312</td>\n",
       "    </tr>\n",
       "    <tr>\n",
       "      <th>Education</th>\n",
       "      <td>-0.072985</td>\n",
       "      <td>0.009407</td>\n",
       "      <td>0.040694</td>\n",
       "      <td>1.000000</td>\n",
       "      <td>0.013549</td>\n",
       "      <td>-0.132015</td>\n",
       "      <td>-0.060520</td>\n",
       "      <td>-0.169390</td>\n",
       "      <td>-0.080910</td>\n",
       "      <td>-0.064098</td>\n",
       "      <td>0.005700</td>\n",
       "      <td>-0.078434</td>\n",
       "    </tr>\n",
       "    <tr>\n",
       "      <th>Self_Employed</th>\n",
       "      <td>0.038857</td>\n",
       "      <td>-0.036041</td>\n",
       "      <td>-0.004980</td>\n",
       "      <td>0.013549</td>\n",
       "      <td>1.000000</td>\n",
       "      <td>0.110006</td>\n",
       "      <td>-0.019479</td>\n",
       "      <td>0.064810</td>\n",
       "      <td>-0.039429</td>\n",
       "      <td>0.050234</td>\n",
       "      <td>0.008780</td>\n",
       "      <td>0.039210</td>\n",
       "    </tr>\n",
       "    <tr>\n",
       "      <th>ApplicantIncome</th>\n",
       "      <td>0.042558</td>\n",
       "      <td>0.051737</td>\n",
       "      <td>0.106932</td>\n",
       "      <td>-0.132015</td>\n",
       "      <td>0.110006</td>\n",
       "      <td>1.000000</td>\n",
       "      <td>-0.122631</td>\n",
       "      <td>0.570708</td>\n",
       "      <td>-0.062861</td>\n",
       "      <td>-0.023779</td>\n",
       "      <td>-0.015400</td>\n",
       "      <td>-0.006281</td>\n",
       "    </tr>\n",
       "    <tr>\n",
       "      <th>CoapplicantIncome</th>\n",
       "      <td>-0.134343</td>\n",
       "      <td>0.110537</td>\n",
       "      <td>-0.019422</td>\n",
       "      <td>-0.060520</td>\n",
       "      <td>-0.019479</td>\n",
       "      <td>-0.122631</td>\n",
       "      <td>1.000000</td>\n",
       "      <td>0.159152</td>\n",
       "      <td>-0.000290</td>\n",
       "      <td>-0.010847</td>\n",
       "      <td>-0.007106</td>\n",
       "      <td>-0.043353</td>\n",
       "    </tr>\n",
       "    <tr>\n",
       "      <th>LoanAmount</th>\n",
       "      <td>-0.008853</td>\n",
       "      <td>0.172137</td>\n",
       "      <td>0.158508</td>\n",
       "      <td>-0.169390</td>\n",
       "      <td>0.064810</td>\n",
       "      <td>0.570708</td>\n",
       "      <td>0.159152</td>\n",
       "      <td>1.000000</td>\n",
       "      <td>0.023239</td>\n",
       "      <td>-0.018156</td>\n",
       "      <td>0.032762</td>\n",
       "      <td>-0.036642</td>\n",
       "    </tr>\n",
       "    <tr>\n",
       "      <th>Loan_Amount_Term</th>\n",
       "      <td>0.067224</td>\n",
       "      <td>-0.089838</td>\n",
       "      <td>-0.054452</td>\n",
       "      <td>-0.080910</td>\n",
       "      <td>-0.039429</td>\n",
       "      <td>-0.062861</td>\n",
       "      <td>-0.000290</td>\n",
       "      <td>0.023239</td>\n",
       "      <td>1.000000</td>\n",
       "      <td>0.008658</td>\n",
       "      <td>0.077699</td>\n",
       "      <td>-0.028601</td>\n",
       "    </tr>\n",
       "    <tr>\n",
       "      <th>Credit_History</th>\n",
       "      <td>-0.036533</td>\n",
       "      <td>0.013366</td>\n",
       "      <td>-0.082853</td>\n",
       "      <td>-0.064098</td>\n",
       "      <td>0.050234</td>\n",
       "      <td>-0.023779</td>\n",
       "      <td>-0.010847</td>\n",
       "      <td>-0.018156</td>\n",
       "      <td>0.008658</td>\n",
       "      <td>1.000000</td>\n",
       "      <td>0.022635</td>\n",
       "      <td>0.547439</td>\n",
       "    </tr>\n",
       "    <tr>\n",
       "      <th>Property_Area</th>\n",
       "      <td>0.087250</td>\n",
       "      <td>-0.007119</td>\n",
       "      <td>-0.047590</td>\n",
       "      <td>0.005700</td>\n",
       "      <td>0.008780</td>\n",
       "      <td>-0.015400</td>\n",
       "      <td>-0.007106</td>\n",
       "      <td>0.032762</td>\n",
       "      <td>0.077699</td>\n",
       "      <td>0.022635</td>\n",
       "      <td>1.000000</td>\n",
       "      <td>0.110379</td>\n",
       "    </tr>\n",
       "    <tr>\n",
       "      <th>Loan_Status</th>\n",
       "      <td>-0.064047</td>\n",
       "      <td>0.098600</td>\n",
       "      <td>0.008312</td>\n",
       "      <td>-0.078434</td>\n",
       "      <td>0.039210</td>\n",
       "      <td>-0.006281</td>\n",
       "      <td>-0.043353</td>\n",
       "      <td>-0.036642</td>\n",
       "      <td>-0.028601</td>\n",
       "      <td>0.547439</td>\n",
       "      <td>0.110379</td>\n",
       "      <td>1.000000</td>\n",
       "    </tr>\n",
       "  </tbody>\n",
       "</table>\n",
       "</div>"
      ],
      "text/plain": [
       "                     Gender   Married  Dependents  Education  Self_Employed  \\\n",
       "Gender             1.000000 -0.267226   -0.121249  -0.072985       0.038857   \n",
       "Married           -0.267226  1.000000    0.354413   0.009407      -0.036041   \n",
       "Dependents        -0.121249  0.354413    1.000000   0.040694      -0.004980   \n",
       "Education         -0.072985  0.009407    0.040694   1.000000       0.013549   \n",
       "Self_Employed      0.038857 -0.036041   -0.004980   0.013549       1.000000   \n",
       "ApplicantIncome    0.042558  0.051737    0.106932  -0.132015       0.110006   \n",
       "CoapplicantIncome -0.134343  0.110537   -0.019422  -0.060520      -0.019479   \n",
       "LoanAmount        -0.008853  0.172137    0.158508  -0.169390       0.064810   \n",
       "Loan_Amount_Term   0.067224 -0.089838   -0.054452  -0.080910      -0.039429   \n",
       "Credit_History    -0.036533  0.013366   -0.082853  -0.064098       0.050234   \n",
       "Property_Area      0.087250 -0.007119   -0.047590   0.005700       0.008780   \n",
       "Loan_Status       -0.064047  0.098600    0.008312  -0.078434       0.039210   \n",
       "\n",
       "                   ApplicantIncome  CoapplicantIncome  LoanAmount  \\\n",
       "Gender                    0.042558          -0.134343   -0.008853   \n",
       "Married                   0.051737           0.110537    0.172137   \n",
       "Dependents                0.106932          -0.019422    0.158508   \n",
       "Education                -0.132015          -0.060520   -0.169390   \n",
       "Self_Employed             0.110006          -0.019479    0.064810   \n",
       "ApplicantIncome           1.000000          -0.122631    0.570708   \n",
       "CoapplicantIncome        -0.122631           1.000000    0.159152   \n",
       "LoanAmount                0.570708           0.159152    1.000000   \n",
       "Loan_Amount_Term         -0.062861          -0.000290    0.023239   \n",
       "Credit_History           -0.023779          -0.010847   -0.018156   \n",
       "Property_Area            -0.015400          -0.007106    0.032762   \n",
       "Loan_Status              -0.006281          -0.043353   -0.036642   \n",
       "\n",
       "                   Loan_Amount_Term  Credit_History  Property_Area  \\\n",
       "Gender                     0.067224       -0.036533       0.087250   \n",
       "Married                   -0.089838        0.013366      -0.007119   \n",
       "Dependents                -0.054452       -0.082853      -0.047590   \n",
       "Education                 -0.080910       -0.064098       0.005700   \n",
       "Self_Employed             -0.039429        0.050234       0.008780   \n",
       "ApplicantIncome           -0.062861       -0.023779      -0.015400   \n",
       "CoapplicantIncome         -0.000290       -0.010847      -0.007106   \n",
       "LoanAmount                 0.023239       -0.018156       0.032762   \n",
       "Loan_Amount_Term           1.000000        0.008658       0.077699   \n",
       "Credit_History             0.008658        1.000000       0.022635   \n",
       "Property_Area              0.077699        0.022635       1.000000   \n",
       "Loan_Status               -0.028601        0.547439       0.110379   \n",
       "\n",
       "                   Loan_Status  \n",
       "Gender               -0.064047  \n",
       "Married               0.098600  \n",
       "Dependents            0.008312  \n",
       "Education            -0.078434  \n",
       "Self_Employed         0.039210  \n",
       "ApplicantIncome      -0.006281  \n",
       "CoapplicantIncome    -0.043353  \n",
       "LoanAmount           -0.036642  \n",
       "Loan_Amount_Term     -0.028601  \n",
       "Credit_History        0.547439  \n",
       "Property_Area         0.110379  \n",
       "Loan_Status           1.000000  "
      ]
     },
     "execution_count": 143,
     "metadata": {},
     "output_type": "execute_result"
    }
   ],
   "source": [
    "#Credit History,property valuation\n",
    "main_df.corr()"
   ]
  },
  {
   "cell_type": "code",
   "execution_count": 273,
   "id": "6d75fe43",
   "metadata": {},
   "outputs": [
    {
     "data": {
      "text/plain": [
       "0"
      ]
     },
     "execution_count": 273,
     "metadata": {},
     "output_type": "execute_result"
    }
   ],
   "source": [
    "main_df.ApplicantIncome.isnull().sum()"
   ]
  },
  {
   "cell_type": "code",
   "execution_count": 274,
   "id": "82a6e462",
   "metadata": {},
   "outputs": [
    {
     "data": {
      "text/plain": [
       "0"
      ]
     },
     "execution_count": 274,
     "metadata": {},
     "output_type": "execute_result"
    }
   ],
   "source": [
    "main_df.CoapplicantIncome.isnull().sum()"
   ]
  },
  {
   "cell_type": "code",
   "execution_count": 276,
   "id": "0b2bd071",
   "metadata": {},
   "outputs": [],
   "source": [
    "main_df[\"Total_income\"]=main_df.ApplicantIncome+main_df.CoapplicantIncome"
   ]
  },
  {
   "cell_type": "code",
   "execution_count": 277,
   "id": "266564e9",
   "metadata": {},
   "outputs": [
    {
     "data": {
      "text/html": [
       "<div>\n",
       "<style scoped>\n",
       "    .dataframe tbody tr th:only-of-type {\n",
       "        vertical-align: middle;\n",
       "    }\n",
       "\n",
       "    .dataframe tbody tr th {\n",
       "        vertical-align: top;\n",
       "    }\n",
       "\n",
       "    .dataframe thead th {\n",
       "        text-align: right;\n",
       "    }\n",
       "</style>\n",
       "<table border=\"1\" class=\"dataframe\">\n",
       "  <thead>\n",
       "    <tr style=\"text-align: right;\">\n",
       "      <th></th>\n",
       "      <th>Loan_ID</th>\n",
       "      <th>Gender</th>\n",
       "      <th>Married</th>\n",
       "      <th>Dependents</th>\n",
       "      <th>Education</th>\n",
       "      <th>Self_Employed</th>\n",
       "      <th>ApplicantIncome</th>\n",
       "      <th>CoapplicantIncome</th>\n",
       "      <th>LoanAmount</th>\n",
       "      <th>Loan_Amount_Term</th>\n",
       "      <th>Credit_History</th>\n",
       "      <th>Property_Area</th>\n",
       "      <th>Loan_Status</th>\n",
       "      <th>Total_income</th>\n",
       "    </tr>\n",
       "  </thead>\n",
       "  <tbody>\n",
       "    <tr>\n",
       "      <th>1</th>\n",
       "      <td>LP001003</td>\n",
       "      <td>0</td>\n",
       "      <td>1</td>\n",
       "      <td>1</td>\n",
       "      <td>0</td>\n",
       "      <td>0</td>\n",
       "      <td>4583</td>\n",
       "      <td>1508.0</td>\n",
       "      <td>128.0</td>\n",
       "      <td>360.0</td>\n",
       "      <td>1.0</td>\n",
       "      <td>1</td>\n",
       "      <td>0</td>\n",
       "      <td>6091.0</td>\n",
       "    </tr>\n",
       "    <tr>\n",
       "      <th>2</th>\n",
       "      <td>LP001005</td>\n",
       "      <td>0</td>\n",
       "      <td>1</td>\n",
       "      <td>0</td>\n",
       "      <td>0</td>\n",
       "      <td>1</td>\n",
       "      <td>3000</td>\n",
       "      <td>0.0</td>\n",
       "      <td>66.0</td>\n",
       "      <td>360.0</td>\n",
       "      <td>1.0</td>\n",
       "      <td>0</td>\n",
       "      <td>1</td>\n",
       "      <td>3000.0</td>\n",
       "    </tr>\n",
       "    <tr>\n",
       "      <th>3</th>\n",
       "      <td>LP001006</td>\n",
       "      <td>0</td>\n",
       "      <td>1</td>\n",
       "      <td>0</td>\n",
       "      <td>1</td>\n",
       "      <td>0</td>\n",
       "      <td>2583</td>\n",
       "      <td>2358.0</td>\n",
       "      <td>120.0</td>\n",
       "      <td>360.0</td>\n",
       "      <td>1.0</td>\n",
       "      <td>0</td>\n",
       "      <td>1</td>\n",
       "      <td>4941.0</td>\n",
       "    </tr>\n",
       "    <tr>\n",
       "      <th>4</th>\n",
       "      <td>LP001008</td>\n",
       "      <td>0</td>\n",
       "      <td>0</td>\n",
       "      <td>0</td>\n",
       "      <td>0</td>\n",
       "      <td>0</td>\n",
       "      <td>6000</td>\n",
       "      <td>0.0</td>\n",
       "      <td>141.0</td>\n",
       "      <td>360.0</td>\n",
       "      <td>1.0</td>\n",
       "      <td>0</td>\n",
       "      <td>1</td>\n",
       "      <td>6000.0</td>\n",
       "    </tr>\n",
       "    <tr>\n",
       "      <th>5</th>\n",
       "      <td>LP001011</td>\n",
       "      <td>0</td>\n",
       "      <td>1</td>\n",
       "      <td>2</td>\n",
       "      <td>0</td>\n",
       "      <td>1</td>\n",
       "      <td>5417</td>\n",
       "      <td>4196.0</td>\n",
       "      <td>267.0</td>\n",
       "      <td>360.0</td>\n",
       "      <td>1.0</td>\n",
       "      <td>0</td>\n",
       "      <td>1</td>\n",
       "      <td>9613.0</td>\n",
       "    </tr>\n",
       "  </tbody>\n",
       "</table>\n",
       "</div>"
      ],
      "text/plain": [
       "    Loan_ID  Gender  Married  Dependents  Education  Self_Employed  \\\n",
       "1  LP001003       0        1           1          0              0   \n",
       "2  LP001005       0        1           0          0              1   \n",
       "3  LP001006       0        1           0          1              0   \n",
       "4  LP001008       0        0           0          0              0   \n",
       "5  LP001011       0        1           2          0              1   \n",
       "\n",
       "   ApplicantIncome  CoapplicantIncome  LoanAmount  Loan_Amount_Term  \\\n",
       "1             4583             1508.0       128.0             360.0   \n",
       "2             3000                0.0        66.0             360.0   \n",
       "3             2583             2358.0       120.0             360.0   \n",
       "4             6000                0.0       141.0             360.0   \n",
       "5             5417             4196.0       267.0             360.0   \n",
       "\n",
       "   Credit_History  Property_Area  Loan_Status  Total_income  \n",
       "1             1.0              1            0        6091.0  \n",
       "2             1.0              0            1        3000.0  \n",
       "3             1.0              0            1        4941.0  \n",
       "4             1.0              0            1        6000.0  \n",
       "5             1.0              0            1        9613.0  "
      ]
     },
     "execution_count": 277,
     "metadata": {},
     "output_type": "execute_result"
    }
   ],
   "source": [
    "main_df.head()"
   ]
  },
  {
   "cell_type": "code",
   "execution_count": 278,
   "id": "0ccb9ef1",
   "metadata": {},
   "outputs": [
    {
     "data": {
      "text/html": [
       "<div>\n",
       "<style scoped>\n",
       "    .dataframe tbody tr th:only-of-type {\n",
       "        vertical-align: middle;\n",
       "    }\n",
       "\n",
       "    .dataframe tbody tr th {\n",
       "        vertical-align: top;\n",
       "    }\n",
       "\n",
       "    .dataframe thead th {\n",
       "        text-align: right;\n",
       "    }\n",
       "</style>\n",
       "<table border=\"1\" class=\"dataframe\">\n",
       "  <thead>\n",
       "    <tr style=\"text-align: right;\">\n",
       "      <th></th>\n",
       "      <th>Gender</th>\n",
       "      <th>Married</th>\n",
       "      <th>Dependents</th>\n",
       "      <th>Education</th>\n",
       "      <th>Self_Employed</th>\n",
       "      <th>ApplicantIncome</th>\n",
       "      <th>CoapplicantIncome</th>\n",
       "      <th>LoanAmount</th>\n",
       "      <th>Loan_Amount_Term</th>\n",
       "      <th>Credit_History</th>\n",
       "      <th>Property_Area</th>\n",
       "      <th>Loan_Status</th>\n",
       "      <th>Total_income</th>\n",
       "    </tr>\n",
       "  </thead>\n",
       "  <tbody>\n",
       "    <tr>\n",
       "      <th>Gender</th>\n",
       "      <td>1.000000</td>\n",
       "      <td>-0.267226</td>\n",
       "      <td>-0.121249</td>\n",
       "      <td>-0.072985</td>\n",
       "      <td>0.038857</td>\n",
       "      <td>0.042558</td>\n",
       "      <td>-0.134343</td>\n",
       "      <td>-0.008853</td>\n",
       "      <td>0.067224</td>\n",
       "      <td>-0.036533</td>\n",
       "      <td>0.087250</td>\n",
       "      <td>-0.064047</td>\n",
       "      <td>-0.010103</td>\n",
       "    </tr>\n",
       "    <tr>\n",
       "      <th>Married</th>\n",
       "      <td>-0.267226</td>\n",
       "      <td>1.000000</td>\n",
       "      <td>0.354413</td>\n",
       "      <td>0.009407</td>\n",
       "      <td>-0.036041</td>\n",
       "      <td>0.051737</td>\n",
       "      <td>0.110537</td>\n",
       "      <td>0.172137</td>\n",
       "      <td>-0.089838</td>\n",
       "      <td>0.013366</td>\n",
       "      <td>-0.007119</td>\n",
       "      <td>0.098600</td>\n",
       "      <td>0.092628</td>\n",
       "    </tr>\n",
       "    <tr>\n",
       "      <th>Dependents</th>\n",
       "      <td>-0.121249</td>\n",
       "      <td>0.354413</td>\n",
       "      <td>1.000000</td>\n",
       "      <td>0.040694</td>\n",
       "      <td>-0.004980</td>\n",
       "      <td>0.106932</td>\n",
       "      <td>-0.019422</td>\n",
       "      <td>0.158508</td>\n",
       "      <td>-0.054452</td>\n",
       "      <td>-0.082853</td>\n",
       "      <td>-0.047590</td>\n",
       "      <td>0.008312</td>\n",
       "      <td>0.096486</td>\n",
       "    </tr>\n",
       "    <tr>\n",
       "      <th>Education</th>\n",
       "      <td>-0.072985</td>\n",
       "      <td>0.009407</td>\n",
       "      <td>0.040694</td>\n",
       "      <td>1.000000</td>\n",
       "      <td>0.013549</td>\n",
       "      <td>-0.132015</td>\n",
       "      <td>-0.060520</td>\n",
       "      <td>-0.169390</td>\n",
       "      <td>-0.080910</td>\n",
       "      <td>-0.064098</td>\n",
       "      <td>0.005700</td>\n",
       "      <td>-0.078434</td>\n",
       "      <td>-0.151487</td>\n",
       "    </tr>\n",
       "    <tr>\n",
       "      <th>Self_Employed</th>\n",
       "      <td>0.038857</td>\n",
       "      <td>-0.036041</td>\n",
       "      <td>-0.004980</td>\n",
       "      <td>0.013549</td>\n",
       "      <td>1.000000</td>\n",
       "      <td>0.110006</td>\n",
       "      <td>-0.019479</td>\n",
       "      <td>0.064810</td>\n",
       "      <td>-0.039429</td>\n",
       "      <td>0.050234</td>\n",
       "      <td>0.008780</td>\n",
       "      <td>0.039210</td>\n",
       "      <td>0.099452</td>\n",
       "    </tr>\n",
       "    <tr>\n",
       "      <th>ApplicantIncome</th>\n",
       "      <td>0.042558</td>\n",
       "      <td>0.051737</td>\n",
       "      <td>0.106932</td>\n",
       "      <td>-0.132015</td>\n",
       "      <td>0.110006</td>\n",
       "      <td>1.000000</td>\n",
       "      <td>-0.122631</td>\n",
       "      <td>0.570708</td>\n",
       "      <td>-0.062861</td>\n",
       "      <td>-0.023779</td>\n",
       "      <td>-0.015400</td>\n",
       "      <td>-0.006281</td>\n",
       "      <td>0.924907</td>\n",
       "    </tr>\n",
       "    <tr>\n",
       "      <th>CoapplicantIncome</th>\n",
       "      <td>-0.134343</td>\n",
       "      <td>0.110537</td>\n",
       "      <td>-0.019422</td>\n",
       "      <td>-0.060520</td>\n",
       "      <td>-0.019479</td>\n",
       "      <td>-0.122631</td>\n",
       "      <td>1.000000</td>\n",
       "      <td>0.159152</td>\n",
       "      <td>-0.000290</td>\n",
       "      <td>-0.010847</td>\n",
       "      <td>-0.007106</td>\n",
       "      <td>-0.043353</td>\n",
       "      <td>0.263902</td>\n",
       "    </tr>\n",
       "    <tr>\n",
       "      <th>LoanAmount</th>\n",
       "      <td>-0.008853</td>\n",
       "      <td>0.172137</td>\n",
       "      <td>0.158508</td>\n",
       "      <td>-0.169390</td>\n",
       "      <td>0.064810</td>\n",
       "      <td>0.570708</td>\n",
       "      <td>0.159152</td>\n",
       "      <td>1.000000</td>\n",
       "      <td>0.023239</td>\n",
       "      <td>-0.018156</td>\n",
       "      <td>0.032762</td>\n",
       "      <td>-0.036642</td>\n",
       "      <td>0.615632</td>\n",
       "    </tr>\n",
       "    <tr>\n",
       "      <th>Loan_Amount_Term</th>\n",
       "      <td>0.067224</td>\n",
       "      <td>-0.089838</td>\n",
       "      <td>-0.054452</td>\n",
       "      <td>-0.080910</td>\n",
       "      <td>-0.039429</td>\n",
       "      <td>-0.062861</td>\n",
       "      <td>-0.000290</td>\n",
       "      <td>0.023239</td>\n",
       "      <td>1.000000</td>\n",
       "      <td>0.008658</td>\n",
       "      <td>0.077699</td>\n",
       "      <td>-0.028601</td>\n",
       "      <td>-0.061205</td>\n",
       "    </tr>\n",
       "    <tr>\n",
       "      <th>Credit_History</th>\n",
       "      <td>-0.036533</td>\n",
       "      <td>0.013366</td>\n",
       "      <td>-0.082853</td>\n",
       "      <td>-0.064098</td>\n",
       "      <td>0.050234</td>\n",
       "      <td>-0.023779</td>\n",
       "      <td>-0.010847</td>\n",
       "      <td>-0.018156</td>\n",
       "      <td>0.008658</td>\n",
       "      <td>1.000000</td>\n",
       "      <td>0.022635</td>\n",
       "      <td>0.547439</td>\n",
       "      <td>-0.027265</td>\n",
       "    </tr>\n",
       "    <tr>\n",
       "      <th>Property_Area</th>\n",
       "      <td>0.087250</td>\n",
       "      <td>-0.007119</td>\n",
       "      <td>-0.047590</td>\n",
       "      <td>0.005700</td>\n",
       "      <td>0.008780</td>\n",
       "      <td>-0.015400</td>\n",
       "      <td>-0.007106</td>\n",
       "      <td>0.032762</td>\n",
       "      <td>0.077699</td>\n",
       "      <td>0.022635</td>\n",
       "      <td>1.000000</td>\n",
       "      <td>0.110379</td>\n",
       "      <td>-0.017689</td>\n",
       "    </tr>\n",
       "    <tr>\n",
       "      <th>Loan_Status</th>\n",
       "      <td>-0.064047</td>\n",
       "      <td>0.098600</td>\n",
       "      <td>0.008312</td>\n",
       "      <td>-0.078434</td>\n",
       "      <td>0.039210</td>\n",
       "      <td>-0.006281</td>\n",
       "      <td>-0.043353</td>\n",
       "      <td>-0.036642</td>\n",
       "      <td>-0.028601</td>\n",
       "      <td>0.547439</td>\n",
       "      <td>0.110379</td>\n",
       "      <td>1.000000</td>\n",
       "      <td>-0.022713</td>\n",
       "    </tr>\n",
       "    <tr>\n",
       "      <th>Total_income</th>\n",
       "      <td>-0.010103</td>\n",
       "      <td>0.092628</td>\n",
       "      <td>0.096486</td>\n",
       "      <td>-0.151487</td>\n",
       "      <td>0.099452</td>\n",
       "      <td>0.924907</td>\n",
       "      <td>0.263902</td>\n",
       "      <td>0.615632</td>\n",
       "      <td>-0.061205</td>\n",
       "      <td>-0.027265</td>\n",
       "      <td>-0.017689</td>\n",
       "      <td>-0.022713</td>\n",
       "      <td>1.000000</td>\n",
       "    </tr>\n",
       "  </tbody>\n",
       "</table>\n",
       "</div>"
      ],
      "text/plain": [
       "                     Gender   Married  Dependents  Education  Self_Employed  \\\n",
       "Gender             1.000000 -0.267226   -0.121249  -0.072985       0.038857   \n",
       "Married           -0.267226  1.000000    0.354413   0.009407      -0.036041   \n",
       "Dependents        -0.121249  0.354413    1.000000   0.040694      -0.004980   \n",
       "Education         -0.072985  0.009407    0.040694   1.000000       0.013549   \n",
       "Self_Employed      0.038857 -0.036041   -0.004980   0.013549       1.000000   \n",
       "ApplicantIncome    0.042558  0.051737    0.106932  -0.132015       0.110006   \n",
       "CoapplicantIncome -0.134343  0.110537   -0.019422  -0.060520      -0.019479   \n",
       "LoanAmount        -0.008853  0.172137    0.158508  -0.169390       0.064810   \n",
       "Loan_Amount_Term   0.067224 -0.089838   -0.054452  -0.080910      -0.039429   \n",
       "Credit_History    -0.036533  0.013366   -0.082853  -0.064098       0.050234   \n",
       "Property_Area      0.087250 -0.007119   -0.047590   0.005700       0.008780   \n",
       "Loan_Status       -0.064047  0.098600    0.008312  -0.078434       0.039210   \n",
       "Total_income      -0.010103  0.092628    0.096486  -0.151487       0.099452   \n",
       "\n",
       "                   ApplicantIncome  CoapplicantIncome  LoanAmount  \\\n",
       "Gender                    0.042558          -0.134343   -0.008853   \n",
       "Married                   0.051737           0.110537    0.172137   \n",
       "Dependents                0.106932          -0.019422    0.158508   \n",
       "Education                -0.132015          -0.060520   -0.169390   \n",
       "Self_Employed             0.110006          -0.019479    0.064810   \n",
       "ApplicantIncome           1.000000          -0.122631    0.570708   \n",
       "CoapplicantIncome        -0.122631           1.000000    0.159152   \n",
       "LoanAmount                0.570708           0.159152    1.000000   \n",
       "Loan_Amount_Term         -0.062861          -0.000290    0.023239   \n",
       "Credit_History           -0.023779          -0.010847   -0.018156   \n",
       "Property_Area            -0.015400          -0.007106    0.032762   \n",
       "Loan_Status              -0.006281          -0.043353   -0.036642   \n",
       "Total_income              0.924907           0.263902    0.615632   \n",
       "\n",
       "                   Loan_Amount_Term  Credit_History  Property_Area  \\\n",
       "Gender                     0.067224       -0.036533       0.087250   \n",
       "Married                   -0.089838        0.013366      -0.007119   \n",
       "Dependents                -0.054452       -0.082853      -0.047590   \n",
       "Education                 -0.080910       -0.064098       0.005700   \n",
       "Self_Employed             -0.039429        0.050234       0.008780   \n",
       "ApplicantIncome           -0.062861       -0.023779      -0.015400   \n",
       "CoapplicantIncome         -0.000290       -0.010847      -0.007106   \n",
       "LoanAmount                 0.023239       -0.018156       0.032762   \n",
       "Loan_Amount_Term           1.000000        0.008658       0.077699   \n",
       "Credit_History             0.008658        1.000000       0.022635   \n",
       "Property_Area              0.077699        0.022635       1.000000   \n",
       "Loan_Status               -0.028601        0.547439       0.110379   \n",
       "Total_income              -0.061205       -0.027265      -0.017689   \n",
       "\n",
       "                   Loan_Status  Total_income  \n",
       "Gender               -0.064047     -0.010103  \n",
       "Married               0.098600      0.092628  \n",
       "Dependents            0.008312      0.096486  \n",
       "Education            -0.078434     -0.151487  \n",
       "Self_Employed         0.039210      0.099452  \n",
       "ApplicantIncome      -0.006281      0.924907  \n",
       "CoapplicantIncome    -0.043353      0.263902  \n",
       "LoanAmount           -0.036642      0.615632  \n",
       "Loan_Amount_Term     -0.028601     -0.061205  \n",
       "Credit_History        0.547439     -0.027265  \n",
       "Property_Area         0.110379     -0.017689  \n",
       "Loan_Status           1.000000     -0.022713  \n",
       "Total_income         -0.022713      1.000000  "
      ]
     },
     "execution_count": 278,
     "metadata": {},
     "output_type": "execute_result"
    }
   ],
   "source": [
    "main_df.corr()"
   ]
  },
  {
   "cell_type": "code",
   "execution_count": 181,
   "id": "631bb11c",
   "metadata": {},
   "outputs": [],
   "source": [
    "target_col=main_df.Loan_Status.copy()\n",
    "feature_col=main_df[\"Credit_History\"].copy()"
   ]
  },
  {
   "cell_type": "code",
   "execution_count": 182,
   "id": "c7bc988b",
   "metadata": {},
   "outputs": [
    {
     "data": {
      "text/plain": [
       "1      0\n",
       "2      1\n",
       "3      1\n",
       "4      1\n",
       "5      1\n",
       "      ..\n",
       "609    1\n",
       "610    1\n",
       "611    1\n",
       "612    1\n",
       "613    0\n",
       "Name: Loan_Status, Length: 529, dtype: int64"
      ]
     },
     "execution_count": 182,
     "metadata": {},
     "output_type": "execute_result"
    }
   ],
   "source": [
    "target_col"
   ]
  },
  {
   "cell_type": "code",
   "execution_count": 183,
   "id": "5641b5a1",
   "metadata": {},
   "outputs": [
    {
     "data": {
      "text/plain": [
       "(529,)"
      ]
     },
     "execution_count": 183,
     "metadata": {},
     "output_type": "execute_result"
    }
   ],
   "source": [
    "feature_col.shape"
   ]
  },
  {
   "cell_type": "code",
   "execution_count": 184,
   "id": "8308287e",
   "metadata": {},
   "outputs": [],
   "source": [
    "clf=DecisionTreeClassifier()"
   ]
  },
  {
   "cell_type": "code",
   "execution_count": 187,
   "id": "b2cc688c",
   "metadata": {},
   "outputs": [],
   "source": [
    "dict_alphas=clf.cost_complexity_pruning_path(main_df[[\"Credit_History\"]],target_col)"
   ]
  },
  {
   "cell_type": "code",
   "execution_count": 188,
   "id": "cedef67a",
   "metadata": {},
   "outputs": [
    {
     "data": {
      "text/plain": [
       "[0.0, 0.12777891359454963]"
      ]
     },
     "execution_count": 188,
     "metadata": {},
     "output_type": "execute_result"
    }
   ],
   "source": [
    "list(dict_alphas[ccp_alpha])"
   ]
  },
  {
   "cell_type": "code",
   "execution_count": 189,
   "id": "70fbacbc",
   "metadata": {},
   "outputs": [],
   "source": [
    "from sklearn.model_selection import cross_val_score"
   ]
  },
  {
   "cell_type": "code",
   "execution_count": 190,
   "id": "f2271bca",
   "metadata": {},
   "outputs": [],
   "source": [
    "from sklearn.model_selection import train_test_split"
   ]
  },
  {
   "cell_type": "code",
   "execution_count": 195,
   "id": "9869f942",
   "metadata": {},
   "outputs": [],
   "source": [
    "x_train,x_test,y_train,y_test=train_test_split(main_df[[\"Credit_History\"]],target_col,test_size=0.2,random_state=42)"
   ]
  },
  {
   "cell_type": "code",
   "execution_count": 196,
   "id": "22e9283a",
   "metadata": {},
   "outputs": [
    {
     "data": {
      "text/plain": [
       "(423, 1)"
      ]
     },
     "execution_count": 196,
     "metadata": {},
     "output_type": "execute_result"
    }
   ],
   "source": [
    "x_train.shape"
   ]
  },
  {
   "cell_type": "code",
   "execution_count": 197,
   "id": "84dc8232",
   "metadata": {},
   "outputs": [
    {
     "data": {
      "text/plain": [
       "(106, 1)"
      ]
     },
     "execution_count": 197,
     "metadata": {},
     "output_type": "execute_result"
    }
   ],
   "source": [
    "x_test.shape"
   ]
  },
  {
   "cell_type": "code",
   "execution_count": 198,
   "id": "d64e59db",
   "metadata": {},
   "outputs": [],
   "source": [
    "train_score=[]\n",
    "test_score=[]\n",
    "for i in list(dict_alphas[ccp_alpha]):\n",
    "\n",
    "    clf=DecisionTreeClassifier(ccp_alpha=i)\n",
    "    clf.fit(x_train,y_train)\n",
    "    train_score.append(clf.score(x_train,y_train))\n",
    "    test_score.append(clf.score(x_test,y_test))"
   ]
  },
  {
   "cell_type": "code",
   "execution_count": 199,
   "id": "62e1ad73",
   "metadata": {},
   "outputs": [
    {
     "data": {
      "text/plain": [
       "[0.8108747044917257, 0.6926713947990544]"
      ]
     },
     "execution_count": 199,
     "metadata": {},
     "output_type": "execute_result"
    }
   ],
   "source": [
    "train_score"
   ]
  },
  {
   "cell_type": "code",
   "execution_count": 200,
   "id": "cec648c2",
   "metadata": {},
   "outputs": [
    {
     "data": {
      "text/plain": [
       "[0.8301886792452831, 0.6886792452830188]"
      ]
     },
     "execution_count": 200,
     "metadata": {},
     "output_type": "execute_result"
    }
   ],
   "source": [
    "test_score"
   ]
  },
  {
   "cell_type": "code",
   "execution_count": 201,
   "id": "79a62019",
   "metadata": {},
   "outputs": [
    {
     "data": {
      "text/plain": [
       "DecisionTreeClassifier(ccp_alpha=0.0004214403530210624)"
      ]
     },
     "execution_count": 201,
     "metadata": {},
     "output_type": "execute_result"
    }
   ],
   "source": [
    "model=DecisionTreeClassifier(ccp_alpha=0.0004214403530210624)\n",
    "model.fit(x_train,y_train)"
   ]
  },
  {
   "cell_type": "code",
   "execution_count": 202,
   "id": "b4e0e0f7",
   "metadata": {},
   "outputs": [
    {
     "data": {
      "text/plain": [
       "array([1.])"
      ]
     },
     "execution_count": 202,
     "metadata": {},
     "output_type": "execute_result"
    }
   ],
   "source": [
    "model.feature_importances_"
   ]
  },
  {
   "cell_type": "code",
   "execution_count": 203,
   "id": "ccc78457",
   "metadata": {},
   "outputs": [
    {
     "data": {
      "text/plain": [
       "0.8301886792452831"
      ]
     },
     "execution_count": 203,
     "metadata": {},
     "output_type": "execute_result"
    }
   ],
   "source": [
    "model.score(x_test,y_test)"
   ]
  },
  {
   "cell_type": "code",
   "execution_count": 204,
   "id": "f426acdc",
   "metadata": {},
   "outputs": [],
   "source": [
    "model2=RandomForestClassifier(n_estimators=100,ccp_alpha=0.0004214403530210624)"
   ]
  },
  {
   "cell_type": "code",
   "execution_count": 205,
   "id": "cda5700d",
   "metadata": {},
   "outputs": [
    {
     "data": {
      "text/plain": [
       "RandomForestClassifier(ccp_alpha=0.0004214403530210624)"
      ]
     },
     "execution_count": 205,
     "metadata": {},
     "output_type": "execute_result"
    }
   ],
   "source": [
    "model2.fit(x_train,y_train)"
   ]
  },
  {
   "cell_type": "code",
   "execution_count": 206,
   "id": "23991ff1",
   "metadata": {},
   "outputs": [
    {
     "data": {
      "text/plain": [
       "0.8108747044917257"
      ]
     },
     "execution_count": 206,
     "metadata": {},
     "output_type": "execute_result"
    }
   ],
   "source": [
    "model2.score(x_train,y_train)"
   ]
  },
  {
   "cell_type": "code",
   "execution_count": 207,
   "id": "f78ede5c",
   "metadata": {},
   "outputs": [
    {
     "data": {
      "text/plain": [
       "array([1.])"
      ]
     },
     "execution_count": 207,
     "metadata": {},
     "output_type": "execute_result"
    }
   ],
   "source": [
    "model2.feature_importances_"
   ]
  },
  {
   "cell_type": "code",
   "execution_count": 208,
   "id": "847d5865",
   "metadata": {},
   "outputs": [],
   "source": [
    "from sklearn.linear_model import LogisticRegression"
   ]
  },
  {
   "cell_type": "code",
   "execution_count": 211,
   "id": "50cbc4d4",
   "metadata": {},
   "outputs": [],
   "source": [
    "estimators=[(\"model1\",DecisionTreeClassifier(ccp_alpha=0.0004214403530210624)),\n",
    "           (\"model2\",RandomForestClassifier(n_estimators=100,ccp_alpha=0.0004214403530210624)),\n",
    "           ]"
   ]
  },
  {
   "cell_type": "code",
   "execution_count": 212,
   "id": "0db84e47",
   "metadata": {},
   "outputs": [],
   "source": [
    "model3=StackingClassifier(estimators=estimators,final_estimator=LogisticRegression(),cv=5)"
   ]
  },
  {
   "cell_type": "code",
   "execution_count": 213,
   "id": "f989f7df",
   "metadata": {},
   "outputs": [
    {
     "data": {
      "text/plain": [
       "StackingClassifier(cv=5,\n",
       "                   estimators=[('model1',\n",
       "                                DecisionTreeClassifier(ccp_alpha=0.0004214403530210624)),\n",
       "                               ('model2',\n",
       "                                RandomForestClassifier(ccp_alpha=0.0004214403530210624))],\n",
       "                   final_estimator=LogisticRegression())"
      ]
     },
     "execution_count": 213,
     "metadata": {},
     "output_type": "execute_result"
    }
   ],
   "source": [
    "model3.fit(x_train,y_train)"
   ]
  },
  {
   "cell_type": "code",
   "execution_count": 214,
   "id": "1d72af1c",
   "metadata": {},
   "outputs": [
    {
     "data": {
      "text/plain": [
       "0.8108747044917257"
      ]
     },
     "execution_count": 214,
     "metadata": {},
     "output_type": "execute_result"
    }
   ],
   "source": [
    "model3.score(x_train,y_train)"
   ]
  },
  {
   "cell_type": "code",
   "execution_count": 215,
   "id": "5a9186d2",
   "metadata": {},
   "outputs": [
    {
     "data": {
      "text/plain": [
       "0.8301886792452831"
      ]
     },
     "execution_count": 215,
     "metadata": {},
     "output_type": "execute_result"
    }
   ],
   "source": [
    "model3.score(x_test,y_test)"
   ]
  },
  {
   "cell_type": "code",
   "execution_count": 216,
   "id": "c8cf2c2a",
   "metadata": {},
   "outputs": [],
   "source": [
    "model4=AdaBoostClassifier(RandomForestClassifier(ccp_alpha=0.0004214403530210624),n_estimators=100)"
   ]
  },
  {
   "cell_type": "code",
   "execution_count": 217,
   "id": "50e93822",
   "metadata": {},
   "outputs": [
    {
     "data": {
      "text/plain": [
       "AdaBoostClassifier(base_estimator=RandomForestClassifier(ccp_alpha=0.0004214403530210624),\n",
       "                   n_estimators=100)"
      ]
     },
     "execution_count": 217,
     "metadata": {},
     "output_type": "execute_result"
    }
   ],
   "source": [
    "model4.fit(x_train,y_train)"
   ]
  },
  {
   "cell_type": "code",
   "execution_count": 218,
   "id": "db48220c",
   "metadata": {},
   "outputs": [
    {
     "data": {
      "text/plain": [
       "0.8301886792452831"
      ]
     },
     "execution_count": 218,
     "metadata": {},
     "output_type": "execute_result"
    }
   ],
   "source": [
    "model4.score(x_test,y_test)"
   ]
  },
  {
   "cell_type": "code",
   "execution_count": 219,
   "id": "fde1b3b6",
   "metadata": {},
   "outputs": [],
   "source": [
    "prediction=model4.predict(x_test)"
   ]
  },
  {
   "cell_type": "code",
   "execution_count": 220,
   "id": "88c2168d",
   "metadata": {},
   "outputs": [
    {
     "name": "stdout",
     "output_type": "stream",
     "text": [
      "              precision    recall  f1-score   support\n",
      "\n",
      "           0       0.94      0.48      0.64        33\n",
      "           1       0.81      0.99      0.89        73\n",
      "\n",
      "    accuracy                           0.83       106\n",
      "   macro avg       0.88      0.74      0.76       106\n",
      "weighted avg       0.85      0.83      0.81       106\n",
      "\n"
     ]
    }
   ],
   "source": [
    "print(classification_report(y_test,prediction))"
   ]
  },
  {
   "cell_type": "code",
   "execution_count": 221,
   "id": "d61ad468",
   "metadata": {},
   "outputs": [
    {
     "data": {
      "text/plain": [
       "array([[16, 17],\n",
       "       [ 1, 72]], dtype=int64)"
      ]
     },
     "execution_count": 221,
     "metadata": {},
     "output_type": "execute_result"
    }
   ],
   "source": [
    "confusion_matrix(y_test,prediction)"
   ]
  },
  {
   "cell_type": "code",
   "execution_count": 222,
   "id": "e6a53e88",
   "metadata": {},
   "outputs": [],
   "source": [
    "test_data=pd.read_csv(\"test_df.csv\")"
   ]
  },
  {
   "cell_type": "code",
   "execution_count": 223,
   "id": "da9f007c",
   "metadata": {},
   "outputs": [
    {
     "data": {
      "text/html": [
       "<div>\n",
       "<style scoped>\n",
       "    .dataframe tbody tr th:only-of-type {\n",
       "        vertical-align: middle;\n",
       "    }\n",
       "\n",
       "    .dataframe tbody tr th {\n",
       "        vertical-align: top;\n",
       "    }\n",
       "\n",
       "    .dataframe thead th {\n",
       "        text-align: right;\n",
       "    }\n",
       "</style>\n",
       "<table border=\"1\" class=\"dataframe\">\n",
       "  <thead>\n",
       "    <tr style=\"text-align: right;\">\n",
       "      <th></th>\n",
       "      <th>Loan_ID</th>\n",
       "      <th>Gender</th>\n",
       "      <th>Married</th>\n",
       "      <th>Dependents</th>\n",
       "      <th>Education</th>\n",
       "      <th>Self_Employed</th>\n",
       "      <th>ApplicantIncome</th>\n",
       "      <th>CoapplicantIncome</th>\n",
       "      <th>LoanAmount</th>\n",
       "      <th>Loan_Amount_Term</th>\n",
       "      <th>Credit_History</th>\n",
       "      <th>Property_Area</th>\n",
       "    </tr>\n",
       "  </thead>\n",
       "  <tbody>\n",
       "    <tr>\n",
       "      <th>0</th>\n",
       "      <td>LP001015</td>\n",
       "      <td>Male</td>\n",
       "      <td>Yes</td>\n",
       "      <td>0</td>\n",
       "      <td>Graduate</td>\n",
       "      <td>No</td>\n",
       "      <td>5720</td>\n",
       "      <td>0</td>\n",
       "      <td>110.0</td>\n",
       "      <td>360.0</td>\n",
       "      <td>1.0</td>\n",
       "      <td>Urban</td>\n",
       "    </tr>\n",
       "    <tr>\n",
       "      <th>1</th>\n",
       "      <td>LP001022</td>\n",
       "      <td>Male</td>\n",
       "      <td>Yes</td>\n",
       "      <td>1</td>\n",
       "      <td>Graduate</td>\n",
       "      <td>No</td>\n",
       "      <td>3076</td>\n",
       "      <td>1500</td>\n",
       "      <td>126.0</td>\n",
       "      <td>360.0</td>\n",
       "      <td>1.0</td>\n",
       "      <td>Urban</td>\n",
       "    </tr>\n",
       "    <tr>\n",
       "      <th>2</th>\n",
       "      <td>LP001031</td>\n",
       "      <td>Male</td>\n",
       "      <td>Yes</td>\n",
       "      <td>2</td>\n",
       "      <td>Graduate</td>\n",
       "      <td>No</td>\n",
       "      <td>5000</td>\n",
       "      <td>1800</td>\n",
       "      <td>208.0</td>\n",
       "      <td>360.0</td>\n",
       "      <td>1.0</td>\n",
       "      <td>Urban</td>\n",
       "    </tr>\n",
       "    <tr>\n",
       "      <th>3</th>\n",
       "      <td>LP001035</td>\n",
       "      <td>Male</td>\n",
       "      <td>Yes</td>\n",
       "      <td>2</td>\n",
       "      <td>Graduate</td>\n",
       "      <td>No</td>\n",
       "      <td>2340</td>\n",
       "      <td>2546</td>\n",
       "      <td>100.0</td>\n",
       "      <td>360.0</td>\n",
       "      <td>NaN</td>\n",
       "      <td>Urban</td>\n",
       "    </tr>\n",
       "    <tr>\n",
       "      <th>4</th>\n",
       "      <td>LP001051</td>\n",
       "      <td>Male</td>\n",
       "      <td>No</td>\n",
       "      <td>0</td>\n",
       "      <td>Not Graduate</td>\n",
       "      <td>No</td>\n",
       "      <td>3276</td>\n",
       "      <td>0</td>\n",
       "      <td>78.0</td>\n",
       "      <td>360.0</td>\n",
       "      <td>1.0</td>\n",
       "      <td>Urban</td>\n",
       "    </tr>\n",
       "  </tbody>\n",
       "</table>\n",
       "</div>"
      ],
      "text/plain": [
       "    Loan_ID Gender Married Dependents     Education Self_Employed  \\\n",
       "0  LP001015   Male     Yes          0      Graduate            No   \n",
       "1  LP001022   Male     Yes          1      Graduate            No   \n",
       "2  LP001031   Male     Yes          2      Graduate            No   \n",
       "3  LP001035   Male     Yes          2      Graduate            No   \n",
       "4  LP001051   Male      No          0  Not Graduate            No   \n",
       "\n",
       "   ApplicantIncome  CoapplicantIncome  LoanAmount  Loan_Amount_Term  \\\n",
       "0             5720                  0       110.0             360.0   \n",
       "1             3076               1500       126.0             360.0   \n",
       "2             5000               1800       208.0             360.0   \n",
       "3             2340               2546       100.0             360.0   \n",
       "4             3276                  0        78.0             360.0   \n",
       "\n",
       "   Credit_History Property_Area  \n",
       "0             1.0         Urban  \n",
       "1             1.0         Urban  \n",
       "2             1.0         Urban  \n",
       "3             NaN         Urban  \n",
       "4             1.0         Urban  "
      ]
     },
     "execution_count": 223,
     "metadata": {},
     "output_type": "execute_result"
    }
   ],
   "source": [
    "test_data.head()"
   ]
  },
  {
   "cell_type": "code",
   "execution_count": 245,
   "id": "16349fef",
   "metadata": {},
   "outputs": [
    {
     "data": {
      "text/plain": [
       "(367, 12)"
      ]
     },
     "execution_count": 245,
     "metadata": {},
     "output_type": "execute_result"
    }
   ],
   "source": [
    "test_data.shape"
   ]
  },
  {
   "cell_type": "code",
   "execution_count": 224,
   "id": "52119ff0",
   "metadata": {},
   "outputs": [
    {
     "data": {
      "text/plain": [
       "array([ 1., nan,  0.])"
      ]
     },
     "execution_count": 224,
     "metadata": {},
     "output_type": "execute_result"
    }
   ],
   "source": [
    "test_data.Credit_History.unique()"
   ]
  },
  {
   "cell_type": "code",
   "execution_count": 225,
   "id": "9c5c1376",
   "metadata": {},
   "outputs": [
    {
     "data": {
      "text/plain": [
       "29"
      ]
     },
     "execution_count": 225,
     "metadata": {},
     "output_type": "execute_result"
    }
   ],
   "source": [
    "test_data.Credit_History.isnull().sum()"
   ]
  },
  {
   "cell_type": "code",
   "execution_count": 233,
   "id": "af6f818a",
   "metadata": {},
   "outputs": [
    {
     "data": {
      "text/plain": [
       "1.0    279\n",
       "0.0     59\n",
       "NaN     29\n",
       "Name: Credit_History, dtype: int64"
      ]
     },
     "execution_count": 233,
     "metadata": {},
     "output_type": "execute_result"
    }
   ],
   "source": [
    "test_data.Credit_History.value_counts(dropna=False)"
   ]
  },
  {
   "cell_type": "code",
   "execution_count": 235,
   "id": "6bd36a56",
   "metadata": {},
   "outputs": [],
   "source": [
    "test_data.Credit_History.fillna(0,inplace=True)"
   ]
  },
  {
   "cell_type": "code",
   "execution_count": 236,
   "id": "1296d153",
   "metadata": {},
   "outputs": [
    {
     "data": {
      "text/plain": [
       "1.0    279\n",
       "0.0     88\n",
       "Name: Credit_History, dtype: int64"
      ]
     },
     "execution_count": 236,
     "metadata": {},
     "output_type": "execute_result"
    }
   ],
   "source": [
    "test_data.Credit_History.value_counts(dropna=False)"
   ]
  },
  {
   "cell_type": "code",
   "execution_count": 249,
   "id": "77f91b3a",
   "metadata": {},
   "outputs": [],
   "source": [
    "predict=model4.predict(test_data[[\"Credit_History\"]])"
   ]
  },
  {
   "cell_type": "code",
   "execution_count": 250,
   "id": "a2c1fb43",
   "metadata": {},
   "outputs": [
    {
     "data": {
      "text/plain": [
       "367"
      ]
     },
     "execution_count": 250,
     "metadata": {},
     "output_type": "execute_result"
    }
   ],
   "source": [
    "len(predict)"
   ]
  },
  {
   "cell_type": "code",
   "execution_count": 246,
   "id": "b271768a",
   "metadata": {},
   "outputs": [
    {
     "data": {
      "text/plain": [
       "106"
      ]
     },
     "execution_count": 246,
     "metadata": {},
     "output_type": "execute_result"
    }
   ],
   "source": [
    "len(prediction)"
   ]
  },
  {
   "cell_type": "code",
   "execution_count": 267,
   "id": "7f5dc01e",
   "metadata": {},
   "outputs": [],
   "source": [
    "predicted=[]\n",
    "for i in list(predict):\n",
    "    if i==1:\n",
    "        predicted.append(\"Y\")\n",
    "    else:\n",
    "        predicted.append(\"N\")"
   ]
  },
  {
   "cell_type": "code",
   "execution_count": 268,
   "id": "d9ad1d23",
   "metadata": {},
   "outputs": [],
   "source": [
    "test_df=pd.DataFrame(predicted,index=test_data[\"Loan_ID\"])"
   ]
  },
  {
   "cell_type": "code",
   "execution_count": 269,
   "id": "d96d0650",
   "metadata": {
    "scrolled": true
   },
   "outputs": [],
   "source": [
    "test_df.rename(columns={0:\"Loan_Status\"},inplace=True)"
   ]
  },
  {
   "cell_type": "code",
   "execution_count": 270,
   "id": "86e3bb3d",
   "metadata": {},
   "outputs": [
    {
     "data": {
      "text/plain": [
       "pandas.core.frame.DataFrame"
      ]
     },
     "execution_count": 270,
     "metadata": {},
     "output_type": "execute_result"
    }
   ],
   "source": [
    "type(test_df)"
   ]
  },
  {
   "cell_type": "code",
   "execution_count": 272,
   "id": "10ba928c",
   "metadata": {},
   "outputs": [],
   "source": [
    "test_df.to_csv(\"submission1.csv\")"
   ]
  },
  {
   "cell_type": "code",
   "execution_count": null,
   "id": "3125ad9f",
   "metadata": {},
   "outputs": [],
   "source": []
  }
 ],
 "metadata": {
  "kernelspec": {
   "display_name": "Python 3 (ipykernel)",
   "language": "python",
   "name": "python3"
  },
  "language_info": {
   "codemirror_mode": {
    "name": "ipython",
    "version": 3
   },
   "file_extension": ".py",
   "mimetype": "text/x-python",
   "name": "python",
   "nbconvert_exporter": "python",
   "pygments_lexer": "ipython3",
   "version": "3.9.12"
  }
 },
 "nbformat": 4,
 "nbformat_minor": 5
}
